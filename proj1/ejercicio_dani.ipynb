{
 "cells": [
  {
   "cell_type": "markdown",
   "metadata": {},
   "source": [
    "# Homework Saturday"
   ]
  },
  {
   "cell_type": "markdown",
   "metadata": {},
   "source": [
    "## Convert one raw image to jpg"
   ]
  },
  {
   "cell_type": "code",
   "execution_count": 27,
   "metadata": {},
   "outputs": [],
   "source": [
    "RAW_IMAGE = \"/Users/Stephi/Desktop/Photos_raw/PB090143.ORF\"\n",
    "JPG_IMAGE = \"/Users/Stephi/Desktop/Photos_jpeg\"\n",
    "RAW_FOLDER = \"/Users/Stephi/Desktop/Photos_raw/\" "
   ]
  },
  {
   "cell_type": "markdown",
   "metadata": {},
   "source": [
    "# Read files"
   ]
  },
  {
   "cell_type": "code",
   "execution_count": null,
   "metadata": {},
   "outputs": [],
   "source": [
    "file1=open(\"stephi.txt\").read()\n",
    "\n",
    "-----\n",
    "\n",
    "file1.close()\n"
   ]
  },
  {
   "cell_type": "code",
   "execution_count": null,
   "metadata": {},
   "outputs": [],
   "source": [
    "with open(\"stephi.txt\") as file1:\n",
    "    --------\n",
    "    --------\n"
   ]
  },
  {
   "cell_type": "code",
   "execution_count": null,
   "metadata": {},
   "outputs": [],
   "source": [
    "source code --> github"
   ]
  },
  {
   "cell_type": "markdown",
   "metadata": {},
   "source": [
    "# Install libraries"
   ]
  },
  {
   "cell_type": "code",
   "execution_count": 10,
   "metadata": {},
   "outputs": [
    {
     "name": "stdout",
     "output_type": "stream",
     "text": [
      "Requirement already satisfied: imageio in /Users/Stephi/opt/anaconda3/lib/python3.7/site-packages (2.6.0)\n",
      "Requirement already satisfied: numpy in /Users/Stephi/opt/anaconda3/lib/python3.7/site-packages (from imageio) (1.17.2)\n",
      "Requirement already satisfied: pillow in /Users/Stephi/opt/anaconda3/lib/python3.7/site-packages (from imageio) (6.2.0)\n",
      "Note: you may need to restart the kernel to use updated packages.\n"
     ]
    }
   ],
   "source": [
    "pip install imageio"
   ]
  },
  {
   "cell_type": "code",
   "execution_count": null,
   "metadata": {},
   "outputs": [],
   "source": [
    "conda install rawpy"
   ]
  },
  {
   "cell_type": "code",
   "execution_count": 12,
   "metadata": {},
   "outputs": [],
   "source": [
    "from PIL import Image\n",
    "import rawpy\n",
    "import imageio\n",
    "import os\n",
    "import glob"
   ]
  },
  {
   "cell_type": "code",
   "execution_count": 13,
   "metadata": {},
   "outputs": [],
   "source": [
    "with rawpy.imread(RAW_IMAGE) as raw:\n",
    "    rgb = raw.postprocess()\n",
    "    imageio.imwrite('test.jpg', rgb)"
   ]
  },
  {
   "cell_type": "code",
   "execution_count": 14,
   "metadata": {},
   "outputs": [
    {
     "data": {
      "text/plain": [
       "'/Users/Stephi/Documents/FORMACIÓN/Dani Python'"
      ]
     },
     "execution_count": 14,
     "metadata": {},
     "output_type": "execute_result"
    }
   ],
   "source": [
    "import os\n",
    "os.getcwd()"
   ]
  },
  {
   "cell_type": "code",
   "execution_count": 15,
   "metadata": {},
   "outputs": [
    {
     "name": "stdout",
     "output_type": "stream",
     "text": [
      "ejercicio_dani.ipynb test.jpg\r\n"
     ]
    }
   ],
   "source": [
    "!ls"
   ]
  },
  {
   "cell_type": "markdown",
   "metadata": {},
   "source": [
    "## Make function to convert one raw image to jpg with the code before"
   ]
  },
  {
   "cell_type": "code",
   "execution_count": 20,
   "metadata": {},
   "outputs": [],
   "source": [
    "def transform_raw_jpg(raw_image, output_image):\n",
    "    with rawpy.imread(raw_image) as raw:\n",
    "        rgb = raw.postprocess()\n",
    "        imageio.imwrite(output_image, rgb)\n",
    "    return output_image"
   ]
  },
  {
   "cell_type": "code",
   "execution_count": 22,
   "metadata": {},
   "outputs": [
    {
     "data": {
      "text/plain": [
       "'test1.jpg'"
      ]
     },
     "execution_count": 22,
     "metadata": {},
     "output_type": "execute_result"
    }
   ],
   "source": [
    "transform_raw_jpg(RAW_IMAGE, \"test1.jpg\")"
   ]
  },
  {
   "cell_type": "markdown",
   "metadata": {},
   "source": [
    "## Apply function to all files in a directory automatically"
   ]
  },
  {
   "cell_type": "code",
   "execution_count": 24,
   "metadata": {},
   "outputs": [],
   "source": [
    "import glob\n",
    "import os"
   ]
  },
  {
   "cell_type": "code",
   "execution_count": 48,
   "metadata": {},
   "outputs": [],
   "source": [
    "folder = \"b\"\n",
    "if not os.path.exists(folder):\n",
    "    os.mkdir(folder)"
   ]
  },
  {
   "cell_type": "code",
   "execution_count": 49,
   "metadata": {},
   "outputs": [
    {
     "name": "stdout",
     "output_type": "stream",
     "text": [
      "\u001b[34ma\u001b[m\u001b[m                    ejercicio_dani.ipynb test1.jpg\r\n",
      "\u001b[34mb\u001b[m\u001b[m                    test.jpg\r\n"
     ]
    }
   ],
   "source": [
    "!ls"
   ]
  },
  {
   "cell_type": "markdown",
   "metadata": {},
   "source": [
    "### Get name of file when having a path"
   ]
  },
  {
   "cell_type": "code",
   "execution_count": 51,
   "metadata": {},
   "outputs": [
    {
     "data": {
      "text/plain": [
       "'PB090143.jpg'"
      ]
     },
     "execution_count": 51,
     "metadata": {},
     "output_type": "execute_result"
    }
   ],
   "source": [
    "path=\"/Users/Stephi/Desktop/Photos_raw/PB090143.jpg\"\n",
    "os.path.basename(path)"
   ]
  },
  {
   "cell_type": "markdown",
   "metadata": {},
   "source": [
    "### Join path and filename"
   ]
  },
  {
   "cell_type": "code",
   "execution_count": 58,
   "metadata": {},
   "outputs": [
    {
     "data": {
      "text/plain": [
       "'/Users/Stephi/Desktop/Photos_jpg/photo.jpg'"
      ]
     },
     "execution_count": 58,
     "metadata": {},
     "output_type": "execute_result"
    }
   ],
   "source": [
    "folder = \"/Users/Stephi/Desktop/Photos_jpg\"\n",
    "name=\"photo.jpg\"\n",
    "\n",
    "os.path.join(folder,name)"
   ]
  },
  {
   "cell_type": "code",
   "execution_count": 59,
   "metadata": {},
   "outputs": [
    {
     "name": "stdout",
     "output_type": "stream",
     "text": [
      "/Users/Stephi/Desktop/Photos_jpg/PB090143.jpg\n",
      "/Users/Stephi/Desktop/Photos_jpg/P5180152.jpg\n",
      "/Users/Stephi/Desktop/Photos_jpg/P9120031.jpg\n",
      "/Users/Stephi/Desktop/Photos_jpg/P9120030.jpg\n",
      "/Users/Stephi/Desktop/Photos_jpg/PB090137.jpg\n",
      "/Users/Stephi/Desktop/Photos_jpg/PA130028.jpg\n",
      "/Users/Stephi/Desktop/Photos_jpg/P8250004.jpg\n",
      "/Users/Stephi/Desktop/Photos_jpg/P3030005.jpg\n",
      "/Users/Stephi/Desktop/Photos_jpg/PB170244.jpg\n"
     ]
    }
   ],
   "source": [
    "photos = glob.glob(RAW_FOLDER + \"*.ORF\")\n",
    "folder = \"/Users/Stephi/Desktop/Photos_jpg\"\n",
    "\n",
    "if not os.path.exists(folder):\n",
    "    os.mkdir(folder)\n",
    "\n",
    "for photo in photos:\n",
    "    photo_jpg = photo.strip(\".ORF\") + \".jpg\"\n",
    "    photo_folder = os.path.join(folder, os.path.basename(photo_jpg))\n",
    "    print(photo_folder)\n",
    "    transform_raw_jpg(photo, photo_folder)"
   ]
  },
  {
   "cell_type": "code",
   "execution_count": 41,
   "metadata": {},
   "outputs": [
    {
     "name": "stdout",
     "output_type": "stream",
     "text": [
      "P3030005.ORF P8250004.ORF P9120031.ORF PB090137.ORF PB170244.ORF\r\n",
      "P3030005.jpg P8250004.jpg P9120031.jpg PB090137.jpg PB170244.jpg\r\n",
      "P5180152.ORF P9120030.ORF PA130028.ORF PB090143.ORF _MG_3305.CR2\r\n",
      "P5180152.jpg P9120030.jpg PA130028.jpg PB090143.jpg\r\n"
     ]
    }
   ],
   "source": [
    "!ls /Users/Stephi/Desktop/Photos_raw/"
   ]
  },
  {
   "cell_type": "code",
   "execution_count": 38,
   "metadata": {},
   "outputs": [
    {
     "data": {
      "text/plain": [
       "'Stiph'"
      ]
     },
     "execution_count": 38,
     "metadata": {},
     "output_type": "execute_result"
    }
   ],
   "source": [
    "name=\"iStiphi\"\n",
    "name.strip(\"i\") #quitar una parte de una string. Solo funciona con el principio y el final. "
   ]
  },
  {
   "cell_type": "code",
   "execution_count": 21,
   "metadata": {},
   "outputs": [],
   "source": [
    "import os\n",
    "import glob\n",
    "\n",
    "#Change the path\n",
    "FOLDER = \"/path/to/DIRECTORY\"\n",
    "raw_files = glob.glob(os.path.join(FOLDER, \"*.raw\"))\n",
    "\n",
    "for raw_file in raw_files:\n",
    "    function(raw_file, output_jpeg)\n",
    "    \n"
   ]
  },
  {
   "cell_type": "markdown",
   "metadata": {},
   "source": [
    "## Make a NEW github repo called image_tranformer with folders:\n",
    "\n",
    "- docs\n",
    "- tests\n",
    "- image_tranformer\n",
    "- README\n",
    "- LICENSE\n",
    "- .gitignore\n",
    "\n",
    "!!!! Pass the cell above (completed) to a main.py file and save it inside image_transformer/image_transformer!!!!"
   ]
  },
  {
   "cell_type": "code",
   "execution_count": 60,
   "metadata": {},
   "outputs": [
    {
     "data": {
      "text/plain": [
       "'/Users/Stephi/Documents/FORMACIÓN/Dani Python'"
      ]
     },
     "execution_count": 60,
     "metadata": {},
     "output_type": "execute_result"
    }
   ],
   "source": [
    "os.getcwd()"
   ]
  },
  {
   "cell_type": "code",
   "execution_count": null,
   "metadata": {},
   "outputs": [],
   "source": []
  }
 ],
 "metadata": {
  "kernelspec": {
   "display_name": "Python 3",
   "language": "python",
   "name": "python3"
  },
  "language_info": {
   "codemirror_mode": {
    "name": "ipython",
    "version": 3
   },
   "file_extension": ".py",
   "mimetype": "text/x-python",
   "name": "python",
   "nbconvert_exporter": "python",
   "pygments_lexer": "ipython3",
   "version": "3.7.4"
  }
 },
 "nbformat": 4,
 "nbformat_minor": 2
}
